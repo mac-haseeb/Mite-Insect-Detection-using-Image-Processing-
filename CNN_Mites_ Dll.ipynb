{
  "cells": [
    {
      "cell_type": "code",
      "execution_count": null,
      "metadata": {
        "id": "u1eaQJffN4A9"
      },
      "outputs": [],
      "source": [
        "import tensorflow as tf\n",
        "from tensorflow.keras import layers, models\n",
        "from tensorflow.keras.preprocessing.image import ImageDataGenerator"
      ]
    },
    {
      "cell_type": "code",
      "execution_count": null,
      "metadata": {
        "id": "9cWmpTduN52A"
      },
      "outputs": [],
      "source": [
        "from google.colab import files"
      ]
    },
    {
      "cell_type": "code",
      "execution_count": null,
      "metadata": {
        "colab": {
          "base_uri": "https://localhost:8080/",
          "height": 73
        },
        "id": "iDFbCP5uQUGI",
        "outputId": "c7dd4f42-846d-43d9-c6e4-88e6cfb542c3"
      },
      "outputs": [
        {
          "output_type": "display_data",
          "data": {
            "text/plain": [
              "<IPython.core.display.HTML object>"
            ],
            "text/html": [
              "\n",
              "     <input type=\"file\" id=\"files-c12af009-518f-450a-811f-5edf6e8e51b8\" name=\"files[]\" multiple disabled\n",
              "        style=\"border:none\" />\n",
              "     <output id=\"result-c12af009-518f-450a-811f-5edf6e8e51b8\">\n",
              "      Upload widget is only available when the cell has been executed in the\n",
              "      current browser session. Please rerun this cell to enable.\n",
              "      </output>\n",
              "      <script>// Copyright 2017 Google LLC\n",
              "//\n",
              "// Licensed under the Apache License, Version 2.0 (the \"License\");\n",
              "// you may not use this file except in compliance with the License.\n",
              "// You may obtain a copy of the License at\n",
              "//\n",
              "//      http://www.apache.org/licenses/LICENSE-2.0\n",
              "//\n",
              "// Unless required by applicable law or agreed to in writing, software\n",
              "// distributed under the License is distributed on an \"AS IS\" BASIS,\n",
              "// WITHOUT WARRANTIES OR CONDITIONS OF ANY KIND, either express or implied.\n",
              "// See the License for the specific language governing permissions and\n",
              "// limitations under the License.\n",
              "\n",
              "/**\n",
              " * @fileoverview Helpers for google.colab Python module.\n",
              " */\n",
              "(function(scope) {\n",
              "function span(text, styleAttributes = {}) {\n",
              "  const element = document.createElement('span');\n",
              "  element.textContent = text;\n",
              "  for (const key of Object.keys(styleAttributes)) {\n",
              "    element.style[key] = styleAttributes[key];\n",
              "  }\n",
              "  return element;\n",
              "}\n",
              "\n",
              "// Max number of bytes which will be uploaded at a time.\n",
              "const MAX_PAYLOAD_SIZE = 100 * 1024;\n",
              "\n",
              "function _uploadFiles(inputId, outputId) {\n",
              "  const steps = uploadFilesStep(inputId, outputId);\n",
              "  const outputElement = document.getElementById(outputId);\n",
              "  // Cache steps on the outputElement to make it available for the next call\n",
              "  // to uploadFilesContinue from Python.\n",
              "  outputElement.steps = steps;\n",
              "\n",
              "  return _uploadFilesContinue(outputId);\n",
              "}\n",
              "\n",
              "// This is roughly an async generator (not supported in the browser yet),\n",
              "// where there are multiple asynchronous steps and the Python side is going\n",
              "// to poll for completion of each step.\n",
              "// This uses a Promise to block the python side on completion of each step,\n",
              "// then passes the result of the previous step as the input to the next step.\n",
              "function _uploadFilesContinue(outputId) {\n",
              "  const outputElement = document.getElementById(outputId);\n",
              "  const steps = outputElement.steps;\n",
              "\n",
              "  const next = steps.next(outputElement.lastPromiseValue);\n",
              "  return Promise.resolve(next.value.promise).then((value) => {\n",
              "    // Cache the last promise value to make it available to the next\n",
              "    // step of the generator.\n",
              "    outputElement.lastPromiseValue = value;\n",
              "    return next.value.response;\n",
              "  });\n",
              "}\n",
              "\n",
              "/**\n",
              " * Generator function which is called between each async step of the upload\n",
              " * process.\n",
              " * @param {string} inputId Element ID of the input file picker element.\n",
              " * @param {string} outputId Element ID of the output display.\n",
              " * @return {!Iterable<!Object>} Iterable of next steps.\n",
              " */\n",
              "function* uploadFilesStep(inputId, outputId) {\n",
              "  const inputElement = document.getElementById(inputId);\n",
              "  inputElement.disabled = false;\n",
              "\n",
              "  const outputElement = document.getElementById(outputId);\n",
              "  outputElement.innerHTML = '';\n",
              "\n",
              "  const pickedPromise = new Promise((resolve) => {\n",
              "    inputElement.addEventListener('change', (e) => {\n",
              "      resolve(e.target.files);\n",
              "    });\n",
              "  });\n",
              "\n",
              "  const cancel = document.createElement('button');\n",
              "  inputElement.parentElement.appendChild(cancel);\n",
              "  cancel.textContent = 'Cancel upload';\n",
              "  const cancelPromise = new Promise((resolve) => {\n",
              "    cancel.onclick = () => {\n",
              "      resolve(null);\n",
              "    };\n",
              "  });\n",
              "\n",
              "  // Wait for the user to pick the files.\n",
              "  const files = yield {\n",
              "    promise: Promise.race([pickedPromise, cancelPromise]),\n",
              "    response: {\n",
              "      action: 'starting',\n",
              "    }\n",
              "  };\n",
              "\n",
              "  cancel.remove();\n",
              "\n",
              "  // Disable the input element since further picks are not allowed.\n",
              "  inputElement.disabled = true;\n",
              "\n",
              "  if (!files) {\n",
              "    return {\n",
              "      response: {\n",
              "        action: 'complete',\n",
              "      }\n",
              "    };\n",
              "  }\n",
              "\n",
              "  for (const file of files) {\n",
              "    const li = document.createElement('li');\n",
              "    li.append(span(file.name, {fontWeight: 'bold'}));\n",
              "    li.append(span(\n",
              "        `(${file.type || 'n/a'}) - ${file.size} bytes, ` +\n",
              "        `last modified: ${\n",
              "            file.lastModifiedDate ? file.lastModifiedDate.toLocaleDateString() :\n",
              "                                    'n/a'} - `));\n",
              "    const percent = span('0% done');\n",
              "    li.appendChild(percent);\n",
              "\n",
              "    outputElement.appendChild(li);\n",
              "\n",
              "    const fileDataPromise = new Promise((resolve) => {\n",
              "      const reader = new FileReader();\n",
              "      reader.onload = (e) => {\n",
              "        resolve(e.target.result);\n",
              "      };\n",
              "      reader.readAsArrayBuffer(file);\n",
              "    });\n",
              "    // Wait for the data to be ready.\n",
              "    let fileData = yield {\n",
              "      promise: fileDataPromise,\n",
              "      response: {\n",
              "        action: 'continue',\n",
              "      }\n",
              "    };\n",
              "\n",
              "    // Use a chunked sending to avoid message size limits. See b/62115660.\n",
              "    let position = 0;\n",
              "    do {\n",
              "      const length = Math.min(fileData.byteLength - position, MAX_PAYLOAD_SIZE);\n",
              "      const chunk = new Uint8Array(fileData, position, length);\n",
              "      position += length;\n",
              "\n",
              "      const base64 = btoa(String.fromCharCode.apply(null, chunk));\n",
              "      yield {\n",
              "        response: {\n",
              "          action: 'append',\n",
              "          file: file.name,\n",
              "          data: base64,\n",
              "        },\n",
              "      };\n",
              "\n",
              "      let percentDone = fileData.byteLength === 0 ?\n",
              "          100 :\n",
              "          Math.round((position / fileData.byteLength) * 100);\n",
              "      percent.textContent = `${percentDone}% done`;\n",
              "\n",
              "    } while (position < fileData.byteLength);\n",
              "  }\n",
              "\n",
              "  // All done.\n",
              "  yield {\n",
              "    response: {\n",
              "      action: 'complete',\n",
              "    }\n",
              "  };\n",
              "}\n",
              "\n",
              "scope.google = scope.google || {};\n",
              "scope.google.colab = scope.google.colab || {};\n",
              "scope.google.colab._files = {\n",
              "  _uploadFiles,\n",
              "  _uploadFilesContinue,\n",
              "};\n",
              "})(self);\n",
              "</script> "
            ]
          },
          "metadata": {}
        },
        {
          "output_type": "stream",
          "name": "stdout",
          "text": [
            "Saving Dataset.rar to Dataset.rar\n"
          ]
        }
      ],
      "source": [
        "uploaded = files.upload()"
      ]
    },
    {
      "cell_type": "code",
      "execution_count": null,
      "metadata": {
        "colab": {
          "base_uri": "https://localhost:8080/"
        },
        "id": "rg-ewv4Oooz7",
        "outputId": "ec375208-87ea-4cab-a8ad-e47493bde6db"
      },
      "outputs": [
        {
          "output_type": "stream",
          "name": "stdout",
          "text": [
            "Collecting rarfile\n",
            "  Downloading rarfile-4.1-py3-none-any.whl (28 kB)\n",
            "Installing collected packages: rarfile\n",
            "Successfully installed rarfile-4.1\n"
          ]
        }
      ],
      "source": [
        "!pip install rarfile\n"
      ]
    },
    {
      "cell_type": "code",
      "execution_count": null,
      "metadata": {
        "id": "mYBn3msyQV5I"
      },
      "outputs": [],
      "source": [
        "import zipfile\n",
        "import io\n",
        "import rarfile"
      ]
    },
    {
      "cell_type": "code",
      "execution_count": null,
      "metadata": {
        "id": "qsVtMTYmQbJ6"
      },
      "outputs": [],
      "source": [
        "rar_file_name = 'Dataset.rar'\n"
      ]
    },
    {
      "cell_type": "code",
      "execution_count": null,
      "metadata": {
        "id": "K-wKhqmaQe3k"
      },
      "outputs": [],
      "source": [
        "with rarfile.RarFile(io.BytesIO(uploaded[rar_file_name]), 'r') as rar_ref:\n",
        "    rar_ref.extractall('extracted_folder')"
      ]
    },
    {
      "cell_type": "code",
      "execution_count": null,
      "metadata": {
        "colab": {
          "base_uri": "https://localhost:8080/"
        },
        "id": "tnxN8qrsQg1V",
        "outputId": "05f166f3-b0d8-41bb-abfd-d3490e0884fb"
      },
      "outputs": [
        {
          "output_type": "stream",
          "name": "stdout",
          "text": [
            "Found 337 images belonging to 2 classes.\n"
          ]
        }
      ],
      "source": [
        "from tensorflow.keras.preprocessing.image import ImageDataGenerator\n",
        "\n",
        "# Specify the path to the extracted folder\n",
        "data_path = 'extracted_folder/Dataset'\n",
        "\n",
        "# Create an ImageDataGenerator for data augmentation and preprocessing\n",
        "datagen = ImageDataGenerator(\n",
        "    rescale=1./255,\n",
        "    shear_range=0.2,\n",
        "    zoom_range=0.2,\n",
        "    horizontal_flip=True\n",
        ")\n",
        "\n",
        "# Create a generator for training data\n",
        "train_generator = datagen.flow_from_directory(\n",
        "    data_path,\n",
        "    target_size=(224, 224),  # adjust the target size based on your CNN model\n",
        "    batch_size=32,\n",
        "    class_mode='binary'  # adjust the class mode based on your task\n",
        ")\n"
      ]
    },
    {
      "cell_type": "code",
      "execution_count": null,
      "metadata": {
        "colab": {
          "base_uri": "https://localhost:8080/"
        },
        "id": "E3KIYZJNVCL-",
        "outputId": "bf719a1e-00c7-48bc-adce-b05d0985af4d"
      },
      "outputs": [
        {
          "output_type": "stream",
          "name": "stdout",
          "text": [
            "Epoch 1/30\n",
            "11/11 [==============================] - 35s 3s/step - loss: 7.2739 - accuracy: 0.7359\n",
            "Epoch 2/30\n",
            "11/11 [==============================] - 35s 3s/step - loss: 1.1442 - accuracy: 0.8279\n",
            "Epoch 3/30\n",
            "11/11 [==============================] - 34s 3s/step - loss: 0.6874 - accuracy: 0.8071\n",
            "Epoch 4/30\n",
            "11/11 [==============================] - 33s 3s/step - loss: 0.4624 - accuracy: 0.8338\n",
            "Epoch 5/30\n",
            "11/11 [==============================] - 33s 3s/step - loss: 0.2950 - accuracy: 0.9080\n",
            "Epoch 6/30\n",
            "11/11 [==============================] - 32s 3s/step - loss: 0.2074 - accuracy: 0.9199\n",
            "Epoch 7/30\n",
            "11/11 [==============================] - 34s 3s/step - loss: 0.1852 - accuracy: 0.9228\n",
            "Epoch 8/30\n",
            "11/11 [==============================] - 37s 3s/step - loss: 0.1611 - accuracy: 0.9407\n",
            "Epoch 9/30\n",
            "11/11 [==============================] - 36s 3s/step - loss: 0.2081 - accuracy: 0.9139\n",
            "Epoch 10/30\n",
            "11/11 [==============================] - 35s 3s/step - loss: 0.1520 - accuracy: 0.9377\n",
            "Epoch 11/30\n",
            "11/11 [==============================] - 36s 3s/step - loss: 0.1366 - accuracy: 0.9555\n",
            "Epoch 12/30\n",
            "11/11 [==============================] - 35s 3s/step - loss: 0.1043 - accuracy: 0.9555\n",
            "Epoch 13/30\n",
            "11/11 [==============================] - 31s 3s/step - loss: 0.1165 - accuracy: 0.9555\n",
            "Epoch 14/30\n",
            "11/11 [==============================] - 31s 3s/step - loss: 0.0899 - accuracy: 0.9674\n",
            "Epoch 15/30\n",
            "11/11 [==============================] - 32s 3s/step - loss: 0.0893 - accuracy: 0.9674\n",
            "Epoch 16/30\n",
            "11/11 [==============================] - 31s 3s/step - loss: 0.1032 - accuracy: 0.9555\n",
            "Epoch 17/30\n",
            "11/11 [==============================] - 31s 3s/step - loss: 0.0884 - accuracy: 0.9674\n",
            "Epoch 18/30\n",
            "11/11 [==============================] - 32s 3s/step - loss: 0.0899 - accuracy: 0.9644\n",
            "Epoch 19/30\n",
            "11/11 [==============================] - 31s 3s/step - loss: 0.0973 - accuracy: 0.9585\n",
            "Epoch 20/30\n",
            "11/11 [==============================] - 32s 3s/step - loss: 0.0685 - accuracy: 0.9733\n",
            "Epoch 21/30\n",
            "11/11 [==============================] - 31s 3s/step - loss: 0.0521 - accuracy: 0.9852\n",
            "Epoch 22/30\n",
            "11/11 [==============================] - 31s 3s/step - loss: 0.0573 - accuracy: 0.9792\n",
            "Epoch 23/30\n",
            "11/11 [==============================] - 32s 3s/step - loss: 0.0374 - accuracy: 0.9911\n",
            "Epoch 24/30\n",
            "11/11 [==============================] - 32s 3s/step - loss: 0.0500 - accuracy: 0.9763\n",
            "Epoch 25/30\n",
            "11/11 [==============================] - 32s 3s/step - loss: 0.0524 - accuracy: 0.9852\n",
            "Epoch 26/30\n",
            "11/11 [==============================] - 31s 3s/step - loss: 0.0448 - accuracy: 0.9792\n",
            "Epoch 27/30\n",
            "11/11 [==============================] - 32s 3s/step - loss: 0.0448 - accuracy: 0.9911\n",
            "Epoch 28/30\n",
            "11/11 [==============================] - 32s 3s/step - loss: 0.0338 - accuracy: 0.9911\n",
            "Epoch 29/30\n",
            "11/11 [==============================] - 31s 3s/step - loss: 0.0413 - accuracy: 0.9911\n",
            "Epoch 30/30\n",
            "11/11 [==============================] - 32s 3s/step - loss: 0.0305 - accuracy: 0.9881\n"
          ]
        },
        {
          "output_type": "execute_result",
          "data": {
            "text/plain": [
              "<keras.src.callbacks.History at 0x7ead62a9ff40>"
            ]
          },
          "metadata": {},
          "execution_count": 30
        }
      ],
      "source": [
        "from tensorflow.keras.models import Sequential\n",
        "from tensorflow.keras.layers import Conv2D, MaxPooling2D, Flatten, Dense\n",
        "\n",
        "# Build your CNN model\n",
        "model = Sequential()\n",
        "model.add(Conv2D(32, (3, 3), activation='relu', input_shape=(224, 224, 3)))\n",
        "model.add(MaxPooling2D(pool_size=(2, 2)))\n",
        "model.add(Flatten())\n",
        "model.add(Dense(units=128, activation='relu'))\n",
        "model.add(Dense(units=1, activation='sigmoid'))\n",
        "\n",
        "# Compile your model\n",
        "model.compile(optimizer='adam', loss='binary_crossentropy', metrics=['accuracy'])\n",
        "\n",
        "# Train your model\n",
        "model.fit(train_generator, epochs=30)  # Adjust the number of epochs based on your task\n"
      ]
    },
    {
      "cell_type": "code",
      "execution_count": null,
      "metadata": {
        "colab": {
          "base_uri": "https://localhost:8080/"
        },
        "id": "H9gxXdhhVFSU",
        "outputId": "fbd308a5-5ff1-4d2b-a1b4-b99890b9263d"
      },
      "outputs": [
        {
          "output_type": "stream",
          "name": "stdout",
          "text": [
            "Found 337 images belonging to 2 classes.\n",
            "Found 337 images belonging to 2 classes.\n",
            "Epoch 1/30\n",
            "11/11 [==============================] - 61s 5s/step - loss: 1.1765 - accuracy: 0.6766 - val_loss: 0.3441 - val_accuracy: 0.8071\n",
            "Epoch 2/30\n",
            "11/11 [==============================] - 80s 7s/step - loss: 0.3694 - accuracy: 0.8071 - val_loss: 0.3334 - val_accuracy: 0.8071\n",
            "Epoch 3/30\n",
            "11/11 [==============================] - 79s 7s/step - loss: 0.3378 - accuracy: 0.8071 - val_loss: 0.3331 - val_accuracy: 0.8071\n",
            "Epoch 4/30\n",
            "11/11 [==============================] - 57s 5s/step - loss: 0.3169 - accuracy: 0.8042 - val_loss: 0.2923 - val_accuracy: 0.8071\n",
            "Epoch 5/30\n",
            "11/11 [==============================] - 79s 7s/step - loss: 0.2948 - accuracy: 0.8249 - val_loss: 0.2877 - val_accuracy: 0.8427\n",
            "Epoch 6/30\n",
            "11/11 [==============================] - 59s 5s/step - loss: 0.2732 - accuracy: 0.8368 - val_loss: 0.2552 - val_accuracy: 0.8932\n",
            "Epoch 7/30\n",
            "11/11 [==============================] - 58s 5s/step - loss: 0.2699 - accuracy: 0.8754 - val_loss: 0.2529 - val_accuracy: 0.9199\n",
            "Epoch 8/30\n",
            "11/11 [==============================] - 59s 5s/step - loss: 0.2443 - accuracy: 0.9021 - val_loss: 0.2399 - val_accuracy: 0.8665\n",
            "Epoch 9/30\n",
            "11/11 [==============================] - 59s 5s/step - loss: 0.2402 - accuracy: 0.8902 - val_loss: 0.2434 - val_accuracy: 0.9288\n",
            "Epoch 10/30\n",
            "11/11 [==============================] - 79s 7s/step - loss: 0.2258 - accuracy: 0.9139 - val_loss: 0.2171 - val_accuracy: 0.9199\n",
            "Epoch 11/30\n",
            "11/11 [==============================] - 59s 5s/step - loss: 0.2069 - accuracy: 0.9021 - val_loss: 0.2110 - val_accuracy: 0.9021\n",
            "Epoch 12/30\n",
            "11/11 [==============================] - 79s 7s/step - loss: 0.2156 - accuracy: 0.9318 - val_loss: 0.2025 - val_accuracy: 0.9228\n",
            "Epoch 13/30\n",
            "11/11 [==============================] - 58s 5s/step - loss: 0.2130 - accuracy: 0.9080 - val_loss: 0.2483 - val_accuracy: 0.9050\n",
            "Epoch 14/30\n",
            "11/11 [==============================] - 79s 7s/step - loss: 0.2019 - accuracy: 0.9288 - val_loss: 0.1620 - val_accuracy: 0.9436\n",
            "Epoch 15/30\n",
            "11/11 [==============================] - 60s 5s/step - loss: 0.1829 - accuracy: 0.9347 - val_loss: 0.1454 - val_accuracy: 0.9436\n",
            "Epoch 16/30\n",
            "11/11 [==============================] - 59s 5s/step - loss: 0.1586 - accuracy: 0.9377 - val_loss: 0.1402 - val_accuracy: 0.9496\n",
            "Epoch 17/30\n",
            "11/11 [==============================] - 59s 5s/step - loss: 0.1359 - accuracy: 0.9585 - val_loss: 0.1553 - val_accuracy: 0.9377\n",
            "Epoch 18/30\n",
            "11/11 [==============================] - 59s 5s/step - loss: 0.1326 - accuracy: 0.9436 - val_loss: 0.1525 - val_accuracy: 0.9436\n",
            "Epoch 19/30\n",
            "11/11 [==============================] - 65s 6s/step - loss: 0.1100 - accuracy: 0.9555 - val_loss: 0.0915 - val_accuracy: 0.9733\n",
            "Epoch 20/30\n",
            "11/11 [==============================] - 59s 5s/step - loss: 0.1328 - accuracy: 0.9585 - val_loss: 0.1231 - val_accuracy: 0.9644\n",
            "Epoch 21/30\n",
            "11/11 [==============================] - 59s 5s/step - loss: 0.0781 - accuracy: 0.9763 - val_loss: 0.0833 - val_accuracy: 0.9703\n",
            "Epoch 22/30\n",
            "11/11 [==============================] - 59s 5s/step - loss: 0.0869 - accuracy: 0.9703 - val_loss: 0.0885 - val_accuracy: 0.9792\n",
            "Epoch 23/30\n",
            "11/11 [==============================] - 59s 6s/step - loss: 0.0814 - accuracy: 0.9733 - val_loss: 0.0679 - val_accuracy: 0.9733\n",
            "Epoch 24/30\n",
            "11/11 [==============================] - 58s 5s/step - loss: 0.0583 - accuracy: 0.9763 - val_loss: 0.0460 - val_accuracy: 0.9852\n",
            "Epoch 25/30\n",
            "11/11 [==============================] - 79s 7s/step - loss: 0.0671 - accuracy: 0.9733 - val_loss: 0.0433 - val_accuracy: 0.9881\n",
            "Epoch 26/30\n",
            "11/11 [==============================] - 59s 5s/step - loss: 0.0476 - accuracy: 0.9822 - val_loss: 0.0215 - val_accuracy: 0.9941\n",
            "Epoch 27/30\n",
            "11/11 [==============================] - 58s 5s/step - loss: 0.0374 - accuracy: 0.9881 - val_loss: 0.0468 - val_accuracy: 0.9822\n",
            "Epoch 28/30\n",
            "11/11 [==============================] - 59s 5s/step - loss: 0.0647 - accuracy: 0.9822 - val_loss: 0.0723 - val_accuracy: 0.9792\n",
            "Epoch 29/30\n",
            "11/11 [==============================] - 78s 8s/step - loss: 0.0732 - accuracy: 0.9674 - val_loss: 0.0514 - val_accuracy: 0.9852\n",
            "Epoch 30/30\n",
            "11/11 [==============================] - 59s 5s/step - loss: 0.0522 - accuracy: 0.9881 - val_loss: 0.0776 - val_accuracy: 0.9703\n",
            "Found 337 images belonging to 2 classes.\n",
            "11/11 [==============================] - 25s 2s/step\n",
            "Accuracy: 67.66%\n",
            "Confusion Matrix:\n",
            "[[  6  59]\n",
            " [ 50 222]]\n"
          ]
        }
      ],
      "source": [
        "import tensorflow as tf\n",
        "from tensorflow.keras.preprocessing.image import ImageDataGenerator\n",
        "from sklearn.metrics import accuracy_score, confusion_matrix\n",
        "import numpy as np\n",
        "\n",
        "# Assuming you have a RAR file with image data\n",
        "# Upload and extract the data as explained in previous responses\n",
        "\n",
        "# Define the path to your extracted data\n",
        "data_path = 'extracted_folder/Dataset'\n",
        "\n",
        "# Create an ImageDataGenerator for data augmentation and preprocessing\n",
        "datagen = ImageDataGenerator(\n",
        "    rescale=1./255,\n",
        "    shear_range=0.2,\n",
        "    zoom_range=0.2,\n",
        "    horizontal_flip=True\n",
        ")\n",
        "\n",
        "# Create generators for training and validation data\n",
        "train_generator = datagen.flow_from_directory(\n",
        "    data_path + '',\n",
        "    target_size=(224, 224),\n",
        "    batch_size=32,\n",
        "    class_mode='binary'\n",
        ")\n",
        "\n",
        "validation_generator = datagen.flow_from_directory(\n",
        "    data_path + '',\n",
        "    target_size=(224, 224),\n",
        "    batch_size=32,\n",
        "    class_mode='binary'\n",
        ")\n",
        "\n",
        "# Build the CNN model\n",
        "model = tf.keras.models.Sequential([\n",
        "    tf.keras.layers.Conv2D(32, (3, 3), activation='relu', input_shape=(224, 224, 3)),\n",
        "    tf.keras.layers.MaxPooling2D(2, 2),\n",
        "    tf.keras.layers.Conv2D(64, (3, 3), activation='relu'),\n",
        "    tf.keras.layers.MaxPooling2D(2, 2),\n",
        "    tf.keras.layers.Flatten(),\n",
        "    tf.keras.layers.Dense(128, activation='relu'),\n",
        "    tf.keras.layers.Dense(1, activation='sigmoid')\n",
        "])\n",
        "\n",
        "# Compile the model\n",
        "model.compile(optimizer='adam', loss='binary_crossentropy', metrics=['accuracy'])\n",
        "\n",
        "# Train the model\n",
        "model.fit(train_generator, epochs=30, validation_data=validation_generator)\n",
        "\n",
        "# Evaluate the model on the test set\n",
        "test_generator = datagen.flow_from_directory(\n",
        "    data_path + '',\n",
        "    target_size=(224, 224),\n",
        "    batch_size=32,\n",
        "    class_mode='binary'\n",
        ")\n",
        "\n",
        "# Make predictions on the test set\n",
        "predictions = model.predict(test_generator)\n",
        "predicted_classes = np.round(predictions)\n",
        "\n",
        "# Get true labels\n",
        "true_labels = test_generator.classes\n",
        "\n",
        "# Calculate and print accuracy\n",
        "accuracy = accuracy_score(true_labels, predicted_classes)\n",
        "print(f\"Accuracy: {accuracy * 100:.2f}%\")\n",
        "\n",
        "# Calculate and print confusion matrix\n",
        "conf_matrix = confusion_matrix(true_labels, predicted_classes)\n",
        "print(\"Confusion Matrix:\")\n",
        "print(conf_matrix)\n"
      ]
    },
    {
      "cell_type": "code",
      "execution_count": null,
      "metadata": {
        "id": "RJbnZ0z4r28B",
        "colab": {
          "base_uri": "https://localhost:8080/",
          "height": 472
        },
        "outputId": "20e8a10c-367e-48cf-b701-f9c74520b272"
      },
      "outputs": [
        {
          "output_type": "display_data",
          "data": {
            "text/plain": [
              "<Figure size 640x480 with 1 Axes>"
            ],
            "image/png": "[encoded data removed]"
          },
          "metadata": {}
        }
      ],
      "source": [
        "import matplotlib.pyplot as plt\n",
        "\n",
        "# Accuracy values for CNN\n",
        "cnn_accuracy = [0.724, 0.822, 0.8279, 0.8635, 0.8843, 0.9139, 0.9258, 0.9466, 0.9258, 0.9139]\n",
        "\n",
        "# Accuracy values for ResNet50\n",
        "resnet_accuracy = [0.7300, 0.8279, 0.8309, 0.8872, 0.9080, 0.9110, 0.8902, 0.9021, 0.9407, 0.9318]\n",
        "\n",
        "# Number of epochs\n",
        "epochs = range(1, 11)\n",
        "\n",
        "# Plotting the accuracy of CNN\n",
        "plt.plot(epochs, cnn_accuracy, label='CNN', marker='o')\n",
        "\n",
        "# Plotting the accuracy of ResNet50\n",
        "plt.plot(epochs, resnet_accuracy, label='ResNet50', marker='o')\n",
        "\n",
        "# Adding labels and title\n",
        "plt.xlabel('Epochs')\n",
        "plt.ylabel('Accuracy')\n",
        "plt.title('Accuracy of CNN vs ResNet50')\n",
        "plt.xticks(epochs)\n",
        "plt.legend()\n",
        "\n",
        "# Display the plot\n",
        "plt.grid(True)\n",
        "plt.show()\n"
      ]
    },
    {
      "cell_type": "code",
      "source": [
        "#### LSTM ######\n",
        "import io\n",
        "import rarfile\n",
        "import os\n",
        "from tensorflow.keras.preprocessing.image import ImageDataGenerator\n",
        "from tensorflow.keras.models import Sequential\n",
        "from tensorflow.keras.layers import LSTM, Dense, Embedding\n",
        "from tensorflow.keras.layers import LSTM, Dense, TimeDistributed, Flatten"
      ],
      "metadata": {
        "id": "reCYlpPDMzWs"
      },
      "execution_count": null,
      "outputs": []
    },
    {
      "cell_type": "code",
      "source": [
        "rar_file_name = 'Dataset.rar'\n",
        "\n",
        "with rarfile.RarFile(io.BytesIO(uploaded[rar_file_name]), 'r') as rar_ref:\n",
        "    rar_ref.extractall('extracted_folder')\n",
        "\n",
        "# Specify the path to the extracted folder\n",
        "data_path = 'extracted_folder/Dataset'\n"
      ],
      "metadata": {
        "id": "wtAa6ZdbdP8V"
      },
      "execution_count": null,
      "outputs": []
    },
    {
      "cell_type": "code",
      "source": [
        "# Create an ImageDataGenerator for data augmentation and preprocessing\n",
        "datagen = ImageDataGenerator(\n",
        "    rescale=1./255,\n",
        "    shear_range=0.2,\n",
        "    zoom_range=0.2,\n",
        "    horizontal_flip=True\n",
        ")\n",
        "\n",
        "# Create a generator for training data\n",
        "train_generator = datagen.flow_from_directory(\n",
        "    data_path,\n",
        "    target_size=(224, 224),  # adjust the target size based on your CNN model\n",
        "    batch_size=32,\n",
        "    class_mode='binary'  # adjust the class mode based on your task\n",
        ")\n"
      ],
      "metadata": {
        "colab": {
          "base_uri": "https://localhost:8080/"
        },
        "id": "cSnUMwzAdVHP",
        "outputId": "6edccde3-2939-4bde-d414-a57990500238"
      },
      "execution_count": null,
      "outputs": [
        {
          "output_type": "stream",
          "name": "stdout",
          "text": [
            "Found 337 images belonging to 2 classes.\n"
          ]
        }
      ]
    },
    {
      "cell_type": "code",
      "source": [
        "# Define your LSTM model\n",
        "model = Sequential()\n",
        "model.add(TimeDistributed(Flatten(input_shape=(224, 224, 3))))\n",
        "model.add(LSTM(units=64, return_sequences=True))\n",
        "model.add(LSTM(units=32))\n",
        "model.add(Dense(units=1, activation='sigmoid'))"
      ],
      "metadata": {
        "id": "jDQU9lUmVtsJ"
      },
      "execution_count": null,
      "outputs": []
    },
    {
      "cell_type": "code",
      "source": [
        "# Compile the model\n",
        "model.compile(optimizer='adam', loss='binary_crossentropy', metrics=['accuracy'])\n"
      ],
      "metadata": {
        "id": "ip0h6UKxVxs4"
      },
      "execution_count": null,
      "outputs": []
    },
    {
      "cell_type": "code",
      "source": [
        "# Train the model\n",
        "model.fit(train_generator, epochs=30)  # Train for 30 epochs"
      ],
      "metadata": {
        "colab": {
          "base_uri": "https://localhost:8080/"
        },
        "id": "j87Rjhi5V0Og",
        "outputId": "43bc6672-7c8d-4767-8fb4-d9ffc86d2067"
      },
      "execution_count": null,
      "outputs": [
        {
          "output_type": "stream",
          "name": "stdout",
          "text": [
            "Epoch 1/30\n",
            "11/11 [==============================] - 23s 2s/step - loss: 0.5229 - accuracy: 0.7537\n",
            "Epoch 2/30\n",
            "11/11 [==============================] - 17s 2s/step - loss: 0.4485 - accuracy: 0.8071\n",
            "Epoch 3/30\n",
            "11/11 [==============================] - 17s 2s/step - loss: 0.4090 - accuracy: 0.8071\n",
            "Epoch 4/30\n",
            "11/11 [==============================] - 17s 2s/step - loss: 0.4106 - accuracy: 0.8071\n",
            "Epoch 5/30\n",
            "11/11 [==============================] - 19s 2s/step - loss: 0.3746 - accuracy: 0.8249\n",
            "Epoch 6/30\n",
            "11/11 [==============================] - 17s 2s/step - loss: 0.3830 - accuracy: 0.8427\n",
            "Epoch 7/30\n",
            "11/11 [==============================] - 17s 2s/step - loss: 0.3635 - accuracy: 0.8605\n",
            "Epoch 8/30\n",
            "11/11 [==============================] - 17s 2s/step - loss: 0.3271 - accuracy: 0.8783\n",
            "Epoch 9/30\n",
            "11/11 [==============================] - 17s 2s/step - loss: 0.3641 - accuracy: 0.8427\n",
            "Epoch 10/30\n",
            "11/11 [==============================] - 17s 2s/step - loss: 0.4078 - accuracy: 0.8071\n",
            "Epoch 11/30\n",
            "11/11 [==============================] - 17s 2s/step - loss: 0.4946 - accuracy: 0.8071\n",
            "Epoch 12/30\n",
            "11/11 [==============================] - 18s 2s/step - loss: 0.4624 - accuracy: 0.8071\n",
            "Epoch 13/30\n",
            "11/11 [==============================] - 17s 2s/step - loss: 0.4361 - accuracy: 0.8071\n",
            "Epoch 14/30\n",
            "11/11 [==============================] - 17s 2s/step - loss: 0.4311 - accuracy: 0.8071\n",
            "Epoch 15/30\n",
            "11/11 [==============================] - 18s 2s/step - loss: 0.4140 - accuracy: 0.8071\n",
            "Epoch 16/30\n",
            "11/11 [==============================] - 18s 2s/step - loss: 0.3887 - accuracy: 0.8071\n",
            "Epoch 17/30\n",
            "11/11 [==============================] - 18s 2s/step - loss: 0.3769 - accuracy: 0.8071\n",
            "Epoch 18/30\n",
            "11/11 [==============================] - 17s 2s/step - loss: 0.3550 - accuracy: 0.8160\n",
            "Epoch 19/30\n",
            "11/11 [==============================] - 17s 2s/step - loss: 0.3710 - accuracy: 0.8487\n",
            "Epoch 20/30\n",
            "11/11 [==============================] - 17s 2s/step - loss: 0.3773 - accuracy: 0.8427\n",
            "Epoch 21/30\n",
            "11/11 [==============================] - 17s 2s/step - loss: 0.3423 - accuracy: 0.8665\n",
            "Epoch 22/30\n",
            "11/11 [==============================] - 18s 2s/step - loss: 0.3346 - accuracy: 0.8457\n",
            "Epoch 23/30\n",
            "11/11 [==============================] - 17s 2s/step - loss: 0.3546 - accuracy: 0.8487\n",
            "Epoch 24/30\n",
            "11/11 [==============================] - 18s 2s/step - loss: 0.3800 - accuracy: 0.8042\n",
            "Epoch 25/30\n",
            "11/11 [==============================] - 17s 1s/step - loss: 0.3353 - accuracy: 0.8902\n",
            "Epoch 26/30\n",
            "11/11 [==============================] - 17s 2s/step - loss: 0.3173 - accuracy: 0.8724\n",
            "Epoch 27/30\n",
            "11/11 [==============================] - 17s 1s/step - loss: 0.2989 - accuracy: 0.8872\n",
            "Epoch 28/30\n",
            "11/11 [==============================] - 17s 2s/step - loss: 0.2997 - accuracy: 0.8902\n",
            "Epoch 29/30\n",
            "11/11 [==============================] - 17s 2s/step - loss: 0.2972 - accuracy: 0.8843\n",
            "Epoch 30/30\n",
            "11/11 [==============================] - 17s 2s/step - loss: 0.2789 - accuracy: 0.8991\n"
          ]
        },
        {
          "output_type": "execute_result",
          "data": {
            "text/plain": [
              "<keras.src.callbacks.History at 0x7ead74413d60>"
            ]
          },
          "metadata": {},
          "execution_count": 21
        }
      ]
    },
    {
      "cell_type": "code",
      "source": [
        "#### GRU Gated Recurrent Unit ######"
      ],
      "metadata": {
        "id": "wBUSKPqgZGuk"
      },
      "execution_count": null,
      "outputs": []
    },
    {
      "cell_type": "code",
      "source": [
        "import io\n",
        "import rarfile\n",
        "from tensorflow.keras.preprocessing.image import ImageDataGenerator\n",
        "from tensorflow.keras.models import Sequential\n",
        "from tensorflow.keras.layers import GRU, Dense, TimeDistributed, Flatten"
      ],
      "metadata": {
        "id": "YKnJ8kLsZJRg"
      },
      "execution_count": null,
      "outputs": []
    },
    {
      "cell_type": "code",
      "source": [
        "# Extract the RAR file\n",
        "rar_file_name = 'Dataset.rar'\n",
        "\n",
        "with rarfile.RarFile(io.BytesIO(uploaded[rar_file_name]), 'r') as rar_ref:\n",
        "    rar_ref.extractall('extracted_folder')\n",
        "\n",
        "# Specify the path to the extracted folder\n",
        "data_path = 'extracted_folder/Dataset'"
      ],
      "metadata": {
        "id": "9aKZ9YnFZIWq"
      },
      "execution_count": null,
      "outputs": []
    },
    {
      "cell_type": "code",
      "source": [
        "# Create an ImageDataGenerator for data augmentation and preprocessing\n",
        "datagen = ImageDataGenerator(\n",
        "    rescale=1./255,\n",
        "    shear_range=0.2,\n",
        "    zoom_range=0.2,\n",
        "    horizontal_flip=True\n",
        ")\n",
        "\n",
        "# Create a generator for training data\n",
        "train_generator = datagen.flow_from_directory(\n",
        "    data_path,\n",
        "    target_size=(224, 224),  # adjust the target size based on your CNN model\n",
        "    batch_size=32,\n",
        "    class_mode='binary'  # adjust the class mode based on your task\n",
        ")"
      ],
      "metadata": {
        "id": "u_6v7rG6ZH_k",
        "colab": {
          "base_uri": "https://localhost:8080/"
        },
        "outputId": "ef718e7e-15c5-414e-87d5-7ff6d610cb3d"
      },
      "execution_count": null,
      "outputs": [
        {
          "output_type": "stream",
          "name": "stdout",
          "text": [
            "Found 337 images belonging to 2 classes.\n"
          ]
        }
      ]
    },
    {
      "cell_type": "code",
      "source": [
        "# Define your GRU model\n",
        "model = Sequential()\n",
        "model.add(TimeDistributed(Flatten(input_shape=(224, 224, 3))))\n",
        "model.add(GRU(units=64, return_sequences=True))\n",
        "model.add(GRU(units=32))\n",
        "model.add(Dense(units=1, activation='sigmoid'))\n"
      ],
      "metadata": {
        "id": "zdK92f0Ghouo"
      },
      "execution_count": null,
      "outputs": []
    },
    {
      "cell_type": "code",
      "source": [
        "# Compile the model\n",
        "model.compile(optimizer='adam', loss='binary_crossentropy', metrics=['accuracy'])"
      ],
      "metadata": {
        "id": "JxVkDgEmhqrB"
      },
      "execution_count": null,
      "outputs": []
    },
    {
      "cell_type": "code",
      "source": [
        "# Train the model\n",
        "model.fit(train_generator, epochs=30)  # Train for 30 epochs"
      ],
      "metadata": {
        "colab": {
          "base_uri": "https://localhost:8080/"
        },
        "id": "slgZR8gThs0U",
        "outputId": "e72a69c7-d2de-4d46-99ca-980be61ec2dc"
      },
      "execution_count": null,
      "outputs": [
        {
          "output_type": "stream",
          "name": "stdout",
          "text": [
            "Epoch 1/30\n",
            "11/11 [==============================] - 22s 1s/step - loss: 0.5903 - accuracy: 0.7656\n",
            "Epoch 2/30\n",
            "11/11 [==============================] - 17s 2s/step - loss: 0.5021 - accuracy: 0.8071\n",
            "Epoch 3/30\n",
            "11/11 [==============================] - 18s 2s/step - loss: 0.4663 - accuracy: 0.8071\n",
            "Epoch 4/30\n",
            "11/11 [==============================] - 17s 1s/step - loss: 0.4336 - accuracy: 0.8071\n",
            "Epoch 5/30\n",
            "11/11 [==============================] - 17s 2s/step - loss: 0.4019 - accuracy: 0.8071\n",
            "Epoch 6/30\n",
            "11/11 [==============================] - 18s 2s/step - loss: 0.3572 - accuracy: 0.8220\n",
            "Epoch 7/30\n",
            "11/11 [==============================] - 17s 2s/step - loss: 0.3184 - accuracy: 0.8991\n",
            "Epoch 8/30\n",
            "11/11 [==============================] - 17s 1s/step - loss: 0.3250 - accuracy: 0.8783\n",
            "Epoch 9/30\n",
            "11/11 [==============================] - 17s 2s/step - loss: 0.3122 - accuracy: 0.8724\n",
            "Epoch 10/30\n",
            "11/11 [==============================] - 17s 2s/step - loss: 0.3186 - accuracy: 0.8843\n",
            "Epoch 11/30\n",
            "11/11 [==============================] - 17s 2s/step - loss: 0.2944 - accuracy: 0.9080\n",
            "Epoch 12/30\n",
            "11/11 [==============================] - 17s 2s/step - loss: 0.2914 - accuracy: 0.8961\n",
            "Epoch 13/30\n",
            "11/11 [==============================] - 17s 1s/step - loss: 0.2882 - accuracy: 0.8932\n",
            "Epoch 14/30\n",
            "11/11 [==============================] - 17s 1s/step - loss: 0.2844 - accuracy: 0.8991\n",
            "Epoch 15/30\n",
            "11/11 [==============================] - 17s 2s/step - loss: 0.2920 - accuracy: 0.8843\n",
            "Epoch 16/30\n",
            "11/11 [==============================] - 17s 2s/step - loss: 0.2896 - accuracy: 0.9021\n",
            "Epoch 17/30\n",
            "11/11 [==============================] - 17s 1s/step - loss: 0.2754 - accuracy: 0.9050\n",
            "Epoch 18/30\n",
            "11/11 [==============================] - 17s 1s/step - loss: 0.2652 - accuracy: 0.9169\n",
            "Epoch 19/30\n",
            "11/11 [==============================] - 17s 2s/step - loss: 0.2705 - accuracy: 0.9080\n",
            "Epoch 20/30\n",
            "11/11 [==============================] - 17s 2s/step - loss: 0.3492 - accuracy: 0.8605\n",
            "Epoch 21/30\n",
            "11/11 [==============================] - 18s 2s/step - loss: 0.2987 - accuracy: 0.8843\n",
            "Epoch 22/30\n",
            "11/11 [==============================] - 17s 1s/step - loss: 0.2945 - accuracy: 0.8932\n",
            "Epoch 23/30\n",
            "11/11 [==============================] - 17s 1s/step - loss: 0.2722 - accuracy: 0.9050\n",
            "Epoch 24/30\n",
            "11/11 [==============================] - 18s 2s/step - loss: 0.2574 - accuracy: 0.9050\n",
            "Epoch 25/30\n",
            "11/11 [==============================] - 17s 2s/step - loss: 0.2634 - accuracy: 0.9139\n",
            "Epoch 26/30\n",
            "11/11 [==============================] - 17s 1s/step - loss: 0.2459 - accuracy: 0.9169\n",
            "Epoch 27/30\n",
            "11/11 [==============================] - 18s 2s/step - loss: 0.2589 - accuracy: 0.9169\n",
            "Epoch 28/30\n",
            "11/11 [==============================] - 17s 2s/step - loss: 0.2483 - accuracy: 0.9258\n",
            "Epoch 29/30\n",
            "11/11 [==============================] - 18s 2s/step - loss: 0.2413 - accuracy: 0.9228\n",
            "Epoch 30/30\n",
            "11/11 [==============================] - 17s 1s/step - loss: 0.2531 - accuracy: 0.9080\n"
          ]
        },
        {
          "output_type": "execute_result",
          "data": {
            "text/plain": [
              "<keras.src.callbacks.History at 0x7ead67c1ba30>"
            ]
          },
          "metadata": {},
          "execution_count": 27
        }
      ]
    },
    {
      "cell_type": "code",
      "source": [
        "import matplotlib.pyplot as plt\n",
        "\n",
        "# Accuracy values from training history\n",
        "cnn_accuracy = [0.7359, 0.8279, 0.8071, 0.8338, 0.9080, 0.9199, 0.9228, 0.9407, 0.9139, 0.9377, 0.9555, 0.9555, 0.9555, 0.9674, 0.9674, 0.9555, 0.9674, 0.9644, 0.9585, 0.9733, 0.9852, 0.9792, 0.9911, 0.9763, 0.9852, 0.9792, 0.9911, 0.9911, 0.9911, 0.9881]\n",
        "resnet_accuracy = [0.6766, 0.8071, 0.8071, 0.8042, 0.8249, 0.8368, 0.8754, 0.9021, 0.8902, 0.9139, 0.9021, 0.9318, 0.9080, 0.9288, 0.9347, 0.9377, 0.9585, 0.9436, 0.9555, 0.9585, 0.9763, 0.9703, 0.9733, 0.9763, 0.9733, 0.9822, 0.9881, 0.9822, 0.9674, 0.9881]\n",
        "lstm_accuracy = [0.7537, 0.8071, 0.8071, 0.8071, 0.8249, 0.8427, 0.8605, 0.8783, 0.8427, 0.8249, 0.8220, 0.8071, 0.8071, 0.8071, 0.8071, 0.8071, 0.8160, 0.8487, 0.8427, 0.8665, 0.8457, 0.8487, 0.8042, 0.8902, 0.8724, 0.8872, 0.8902, 0.8843, 0.8991, 0.9080]\n",
        "gru_accuracy = [0.7656, 0.8071, 0.8071, 0.8071, 0.8071, 0.8220, 0.8991, 0.8783, 0.8724, 0.8843, 0.9080, 0.8961, 0.8932, 0.8991, 0.8843, 0.9021, 0.9050, 0.9169, 0.9080, 0.8605, 0.8843, 0.8932, 0.9050, 0.9050, 0.9139, 0.9169, 0.9169, 0.9258, 0.9228, 0.9080]\n",
        "\n",
        "# Number of epochs\n",
        "epochs = range(1, 31)\n",
        "\n",
        "# Plotting\n",
        "plt.figure(figsize=(10, 6))\n",
        "plt.plot(epochs, cnn_accuracy, label='CNN')\n",
        "plt.plot(epochs, resnet_accuracy, label='ResNet')\n",
        "plt.plot(epochs, lstm_accuracy, label='LSTM')\n",
        "plt.plot(epochs, gru_accuracy, label='GRU')\n",
        "plt.title('Model Accuracy Over Training Epochs')\n",
        "plt.xlabel('Epochs')\n",
        "plt.ylabel('Accuracy')\n",
        "plt.legend()\n",
        "plt.grid(True)\n",
        "plt.show()\n"
      ],
      "metadata": {
        "colab": {
          "base_uri": "https://localhost:8080/",
          "height": 564
        },
        "id": "9HoymZXHhu21",
        "outputId": "9be977b2-fe34-4d7a-dd11-f12847e67023"
      },
      "execution_count": null,
      "outputs": [
        {
          "output_type": "display_data",
          "data": {
            "text/plain": [
              "<Figure size 1000x600 with 1 Axes>"
            ],
            "image/png": "[encoded data removed]"
          },
          "metadata": {}
        }
      ]
    },
    {
      "cell_type": "code",
      "source": [],
      "metadata": {
        "id": "1uE5MITN7D6Y"
      },
      "execution_count": null,
      "outputs": []
    }
  ],
  "metadata": {
    "colab": {
      "provenance": []
    },
    "kernelspec": {
      "display_name": "Python 3",
      "name": "python3"
    },
    "language_info": {
      "name": "python"
    }
  },
  "nbformat": 4,
  "nbformat_minor": 0
}