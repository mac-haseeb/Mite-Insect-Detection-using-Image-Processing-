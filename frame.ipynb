{
 "cells": [
  {
   "cell_type": "code",
   "execution_count": null,
   "id": "04e57cf6",
   "metadata": {},
   "outputs": [],
   "source": [
    "import cv2\n",
    "import os"
   ]
  },
  {
   "cell_type": "code",
   "execution_count": null,
   "id": "90f8c40d",
   "metadata": {},
   "outputs": [],
   "source": [
    "def extract_frames(video_path, output_folder, frame_interval=100):\n",
    "    # Open the video file\n",
    "    cap = cv2.VideoCapture(video_path)\n",
    "    if not cap.isOpened():\n",
    "        print(\"Error: Couldn't open the video file.\")\n",
    "        return\n",
    "    if not os.path.exists(output_folder):\n",
    "        os.makedirs(output_folder)\n",
    "    fps = cap.get(cv2.CAP_PROP_FPS)\n",
    "    total_frames = int(cap.get(cv2.CAP_PROP_FRAME_COUNT))\n",
    "\n",
    "    print(f\"Video FPS: {fps}\")\n",
    "    print(f\"Total frames in the video: {total_frames}\")\n",
    "\n",
    "    for frame_number in range(0, total_frames, frame_interval):\n",
    "        cap.set(cv2.CAP_PROP_POS_FRAMES, frame_number)\n",
    "        ret, frame = cap.read()\n",
    "        if not ret:\n",
    "            print(f\"Error reading frame {frame_number}\")\n",
    "            continue\n",
    "\n",
    "        frame_filename = os.path.join(output_folder, f\"frame_{frame_number:04d}.jpg\")\n",
    "        cv2.imwrite(frame_filename, frame)\n",
    "    cap.release()\n",
    "    print(\"Frames extraction complete.\")\n"
   ]
  },
  {
   "cell_type": "code",
   "execution_count": 3,
   "id": "83afdf72",
   "metadata": {},
   "outputs": [
    {
     "name": "stdout",
     "output_type": "stream",
     "text": [
      "Video FPS: 29.0\n",
      "Total frames in the video: 568\n",
      "Frames extraction complete.\n"
     ]
    }
   ],
   "source": [
    "if __name__ == \"__main__\":\n",
    "    video_path = 'A.mp4'\n",
    "    output_folder = 'output_frames'\n",
    "    extract_frames(video_path, output_folder)\n"
   ]
  },
  {
   "cell_type": "code",
   "execution_count": 3,
   "id": "5ccce3a6",
   "metadata": {},
   "outputs": [],
   "source": [
    "import h5py\n",
    "import numpy as np\n",
    "import os\n",
    "import cv2"
   ]
  },
  {
   "cell_type": "code",
   "execution_count": 2,
   "id": "7bd2e54d",
   "metadata": {},
   "outputs": [],
   "source": [
    "data = np.random.random((100, 100))"
   ]
  },
  {
   "cell_type": "code",
   "execution_count": 6,
   "id": "8dcf9224",
   "metadata": {},
   "outputs": [
    {
     "name": "stdout",
     "output_type": "stream",
     "text": [
      "Video FPS: 12.39793367772038\n",
      "Total frames in the video: 372\n",
      "Frames extraction and saving complete.\n"
     ]
    }
   ],
   "source": [
    "\n",
    "def extract_frames_and_save(video_path, output_h5_file, frame_interval=100):\n",
    "    cap = cv2.VideoCapture(video_path)\n",
    "    if not cap.isOpened():\n",
    "        print(\"Error: Couldn't open the video file.\")\n",
    "        return\n",
    "    fps = cap.get(cv2.CAP_PROP_FPS)\n",
    "    total_frames = int(cap.get(cv2.CAP_PROP_FRAME_COUNT))\n",
    "\n",
    "    print(f\"Video FPS: {fps}\")\n",
    "    print(f\"Total frames in the video: {total_frames}\")\n",
    "    with h5py.File(output_h5_file, 'w') as hf:\n",
    "        frame_group = hf.create_group(\"frames\")\n",
    "        for frame_number in range(0, total_frames, frame_interval):\n",
    "            cap.set(cv2.CAP_PROP_POS_FRAMES, frame_number)\n",
    "            ret, frame = cap.read()\n",
    "            if not ret:\n",
    "                print(f\"Error reading frame {frame_number}\")\n",
    "                continue\n",
    "            frame_dataset_name = f\"frame_{frame_number:04d}\"\n",
    "            frame_group.create_dataset(frame_dataset_name, data=frame)\n",
    "\n",
    "    cap.release()\n",
    "    print(\"Frames extraction and saving complete.\")\n",
    "\n",
    "video_path = \"insects.mov\"\n",
    "output_h5_file = \"output.h5\"\n",
    "extract_frames_and_save(video_path, output_h5_file)\n"
   ]
  },
  {
   "cell_type": "code",
   "execution_count": 7,
   "id": "df37090b",
   "metadata": {},
   "outputs": [],
   "source": [
    "def extract_frames_and_save(video_path, output_folder, output_h5_file, frame_interval=100):\n",
    "    cap = cv2.VideoCapture(video_path)\n",
    "    if not cap.isOpened():\n",
    "        print(\"Error: Couldn't open the video file.\")\n",
    "        return\n",
    "    fps = cap.get(cv2.CAP_PROP_FPS)\n",
    "    total_frames = int(cap.get(cv2.CAP_PROP_FRAME_COUNT))\n",
    "\n",
    "    print(f\"Video FPS: {fps}\")\n",
    "    print(f\"Total frames in the video: {total_frames}\")\n",
    "    with h5py.File(output_h5_file, 'w') as hf:\n",
    "        frame_group = hf.create_group(\"frames\")\n",
    "        for frame_number in range(0, total_frames, frame_interval):\n",
    "            cap.set(cv2.CAP_PROP_POS_FRAMES, frame_number)\n",
    "            ret, frame = cap.read()\n",
    "            if not ret:\n",
    "                print(f\"Error reading frame {frame_number}\")\n",
    "                continue\n",
    "            frame_filename = os.path.join(output_folder, f\"frame_{frame_number:04d}.jpg\")\n",
    "            cv2.imwrite(frame_filename, frame)\n",
    "            frame_dataset_name = f\"frame_{frame_number:04d}\"\n",
    "            frame_group.create_dataset(frame_dataset_name, data=frame)\n",
    "\n",
    "    cap.release()\n",
    "    print(\"Frames extraction and saving complete.\")"
   ]
  },
  {
   "cell_type": "code",
   "execution_count": 8,
   "id": "13c9729a",
   "metadata": {},
   "outputs": [
    {
     "name": "stdout",
     "output_type": "stream",
     "text": [
      "Video FPS: 12.39793367772038\n",
      "Total frames in the video: 372\n",
      "Frames extraction and saving complete.\n"
     ]
    }
   ],
   "source": [
    "video_path = \"insects.mov\"\n",
    "output_folder = \"output_frames\"\n",
    "output_h5_file = \"output_frames.h5\"\n",
    "extract_frames_and_save(video_path, output_folder, output_h5_file)"
   ]
  },
  {
   "cell_type": "code",
   "execution_count": null,
   "id": "16dddb33",
   "metadata": {},
   "outputs": [],
   "source": []
  }
 ],
 "metadata": {
  "kernelspec": {
   "display_name": "Python 3 (ipykernel)",
   "language": "python",
   "name": "python3"
  },
  "language_info": {
   "codemirror_mode": {
    "name": "ipython",
    "version": 3
   },
   "file_extension": ".py",
   "mimetype": "text/x-python",
   "name": "python",
   "nbconvert_exporter": "python",
   "pygments_lexer": "ipython3",
   "version": "3.9.12"
  }
 },
 "nbformat": 4,
 "nbformat_minor": 5
}
